{
 "cells": [
  {
   "cell_type": "code",
   "execution_count": 6,
   "metadata": {},
   "outputs": [],
   "source": [
    "import requests\n",
    "import urllib.request\n",
    "import time\n",
    "import certifi\n",
    "import urllib3\n",
    "\n",
    "from bs4 import BeautifulSoup\n",
    "from lxml import html"
   ]
  },
  {
   "cell_type": "code",
   "execution_count": null,
   "metadata": {},
   "outputs": [],
   "source": [
    "class AwbwMatchDataGetter():\n",
    "\n",
    "    def __init__(self, username, password):\n",
    "        self.login_url = \"https://awbw.amarriner.com/logincheck.php\"\n",
    "        self.base_url = \"https://awbw.amarriner.com/\"\n",
    "\n",
    "        self.username = username\n",
    "        self.password = password\n",
    "\n",
    "        self.headers = {\n",
    "        \"User-Agent\":\n",
    "            \"Mozilla/5.0 (Windows NT 6.3; WOW64) AppleWebKit/537.36 (KHTML, like Gecko) Chrome/41.0.2272.101 Safari/537.36\",\n",
    "        }\n",
    "\n",
    "        self.s = requests.session()\n",
    "        self.s.verify = certifi.where()\n",
    "        self.s.headers.update(self.headers)\n",
    "\n",
    "    def login(self):\n",
    "        data = {'username': self.username, 'password': self.password}\n",
    "        result = self.s.post(self.login_url, data=data)\n",
    "        result = self.s.get(self.base_url, cookies= result.cookies)\n",
    "        return result\n",
    "    \n"
   ]
  },
  {
   "cell_type": "code",
   "execution_count": null,
   "metadata": {},
   "outputs": [],
   "source": [
    "map_url = \"https://awbw.amarriner.com/prevmaps.php?maps_id=50841\"\n",
    "\n"
   ]
  }
 ],
 "metadata": {
  "kernelspec": {
   "display_name": ".venv",
   "language": "python",
   "name": "python3"
  },
  "language_info": {
   "codemirror_mode": {
    "name": "ipython",
    "version": 3
   },
   "file_extension": ".py",
   "mimetype": "text/x-python",
   "name": "python",
   "nbconvert_exporter": "python",
   "pygments_lexer": "ipython3",
   "version": "3.11.9"
  }
 },
 "nbformat": 4,
 "nbformat_minor": 2
}
